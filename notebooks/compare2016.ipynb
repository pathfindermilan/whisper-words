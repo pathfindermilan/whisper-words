{
 "cells": [
  {
   "cell_type": "code",
   "id": "initial_id",
   "metadata": {
    "collapsed": true,
    "ExecuteTime": {
     "end_time": "2025-01-03T13:57:37.938329Z",
     "start_time": "2025-01-03T13:57:36.377186Z"
    }
   },
   "source": [
    "import opensmile\n",
    "import webrtcvad\n",
    "import librosa\n",
    "import librosa.display\n",
    "\n",
    "\n",
    "import sys\n",
    "import joblib\n",
    "import numpy as np\n",
    "import pandas as pd\n",
    "from tqdm import tqdm\n",
    "import matplotlib.pyplot as plt\n",
    "\n",
    "from sklearn.metrics import log_loss\n",
    "from sklearn.model_selection import train_test_split\n",
    "from sklearn.calibration import CalibratedClassifierCV\n",
    "\n",
    "from xgboost import XGBClassifier\n",
    "import xgboost as xgb\n",
    "\n",
    "from pathlib import Path\n",
    "\n",
    "\n",
    "# root_dir = Path().resolve().parent\n",
    "# sys.path.append(str(root_dir))"
   ],
   "outputs": [],
   "execution_count": 2
  },
  {
   "metadata": {
    "ExecuteTime": {
     "end_time": "2025-01-03T13:57:37.949143Z",
     "start_time": "2025-01-03T13:57:37.945892Z"
    }
   },
   "cell_type": "code",
   "source": [
    "DATA_PATH = Path(\"../data\")\n",
    "AUDIO_PATH = DATA_PATH / \"audio\""
   ],
   "id": "4f6a5b9ba6f847c7",
   "outputs": [],
   "execution_count": 3
  },
  {
   "metadata": {
    "ExecuteTime": {
     "end_time": "2025-01-03T13:57:38.711157Z",
     "start_time": "2025-01-03T13:57:38.682722Z"
    }
   },
   "cell_type": "code",
   "source": [
    "labels = pd.read_csv(DATA_PATH / \"train_labels.csv\")\n",
    "print(f\"Train labels shape: {labels.shape}\")"
   ],
   "id": "d1595b9e7c66c168",
   "outputs": [
    {
     "name": "stdout",
     "output_type": "stream",
     "text": [
      "Train labels shape: (38095, 2)\n"
     ]
    }
   ],
   "execution_count": 4
  },
  {
   "metadata": {
    "ExecuteTime": {
     "end_time": "2025-01-03T13:57:39.696072Z",
     "start_time": "2025-01-03T13:57:39.653398Z"
    }
   },
   "cell_type": "code",
   "source": [
    "metadata = pd.read_csv(DATA_PATH / \"train_metadata.csv\")\n",
    "print(f\"Train metadata shape: {metadata.shape}\")"
   ],
   "id": "ef144854dba2d8bc",
   "outputs": [
    {
     "name": "stdout",
     "output_type": "stream",
     "text": [
      "Train metadata shape: (38095, 4)\n"
     ]
    }
   ],
   "execution_count": 5
  },
  {
   "metadata": {
    "ExecuteTime": {
     "end_time": "2025-01-03T13:57:41.424004Z",
     "start_time": "2025-01-03T13:57:41.311207Z"
    }
   },
   "cell_type": "code",
   "source": [
    "df = labels.merge(metadata, on=\"filename\", validate=\"1:1\")\n",
    "print(f\"df shape: {df.shape}\")"
   ],
   "id": "208bc5fcad332a57",
   "outputs": [
    {
     "name": "stdout",
     "output_type": "stream",
     "text": [
      "df shape: (38095, 5)\n"
     ]
    }
   ],
   "execution_count": 6
  },
  {
   "metadata": {
    "ExecuteTime": {
     "end_time": "2025-01-03T13:59:18.715972Z",
     "start_time": "2025-01-03T13:59:18.699657Z"
    }
   },
   "cell_type": "code",
   "source": [
    "smile = opensmile.Smile(\n",
    "    feature_set=opensmile.FeatureSet.ComParE_2016,\n",
    "    feature_level=opensmile.FeatureLevel.LowLevelDescriptors,\n",
    ")"
   ],
   "id": "22bb415dc5097705",
   "outputs": [],
   "execution_count": 9
  },
  {
   "metadata": {
    "ExecuteTime": {
     "end_time": "2025-01-03T21:58:39.170070Z",
     "start_time": "2025-01-03T21:11:01.222236Z"
    }
   },
   "cell_type": "code",
   "source": [
    "feature_list = []\n",
    "for filename in tqdm(df.filename, desc=\"Extracting OpenSMILE Features\", unit=\"file\"):\n",
    "    features = smile.process_file(AUDIO_PATH / filename, start=0, end=None)\n",
    "    feature_list.append(features.mean(axis=0))"
   ],
   "id": "9cadb97959296c87",
   "outputs": [
    {
     "name": "stderr",
     "output_type": "stream",
     "text": [
      "Extracting OpenSMILE Features: 100%|██████████| 38095/38095 [47:37<00:00, 13.33file/s]  \n"
     ]
    }
   ],
   "execution_count": 12
  },
  {
   "metadata": {
    "ExecuteTime": {
     "end_time": "2025-01-03T22:34:16.189482Z",
     "start_time": "2025-01-03T22:33:47.077945Z"
    }
   },
   "cell_type": "code",
   "source": [
    "rows = []\n",
    "\n",
    "for index, filename in enumerate(df.filename):\n",
    "    features = feature_list[index]\n",
    "    features_str = features.to_string(index=True)\n",
    "    row_data = {\"filename\": filename}\n",
    "    for feature in features_str.split(\"\\n\"):\n",
    "        parts = feature.rsplit(maxsplit=1)\n",
    "        if len(parts) < 2: continue\n",
    "        feature_name = parts[0].strip()\n",
    "        feature_value = parts[1].strip()\n",
    "        row_data[feature_name] = feature_value\n",
    "    rows.append(row_data)\n",
    "opensmile_df = pd.DataFrame(rows)\n",
    "opensmile_df.to_csv(\"../data/compare2016_opensmile_features.csv\", index=False)"
   ],
   "id": "e98a56b6eaf232b9",
   "outputs": [],
   "execution_count": 16
  },
  {
   "metadata": {
    "ExecuteTime": {
     "end_time": "2025-01-03T22:36:39.504461Z",
     "start_time": "2025-01-03T22:36:39.352318Z"
    }
   },
   "cell_type": "code",
   "source": "df = opensmile_df.merge(labels, on=\"filename\", validate=\"1:1\")",
   "id": "b5f0e8d77cab9781",
   "outputs": [],
   "execution_count": 20
  },
  {
   "metadata": {
    "ExecuteTime": {
     "end_time": "2025-01-03T22:36:48.968470Z",
     "start_time": "2025-01-03T22:36:48.753996Z"
    }
   },
   "cell_type": "code",
   "source": [
    "filenames_smoke = []\n",
    "sub_format_smoke = pd.read_csv(f\"../literacy-screening-runtime/data/submission_format.csv\", index_col=\"filename\")\n",
    "for filename_smoke in sub_format_smoke.index: filenames_smoke.append(filename_smoke)\n",
    "df = df[~df['filename'].isin(filenames_smoke)]"
   ],
   "id": "61aa3f449a54f773",
   "outputs": [],
   "execution_count": 21
  },
  {
   "metadata": {
    "ExecuteTime": {
     "end_time": "2025-01-03T22:36:57.361757Z",
     "start_time": "2025-01-03T22:36:57.254956Z"
    }
   },
   "cell_type": "code",
   "source": [
    "X = df.drop(columns = [\"filename\", \"score\"], axis = 0)\n",
    "y = df.score\n",
    "\n",
    "X.shape, y.shape"
   ],
   "id": "c1d226391b06125a",
   "outputs": [
    {
     "data": {
      "text/plain": [
       "((38087, 65), (38087,))"
      ]
     },
     "execution_count": 22,
     "metadata": {},
     "output_type": "execute_result"
    }
   ],
   "execution_count": 22
  },
  {
   "metadata": {
    "ExecuteTime": {
     "end_time": "2025-01-03T22:37:05.541362Z",
     "start_time": "2025-01-03T22:37:05.366150Z"
    }
   },
   "cell_type": "code",
   "source": [
    "X_train, X_test, y_train, y_test = train_test_split(X, y, test_size=0.2, random_state=42)\n",
    "\n",
    "print(f\"Training set size: {X_train.shape}\")\n",
    "print(f\"Test set size: {X_test.shape}\")"
   ],
   "id": "8f5511f97571f240",
   "outputs": [
    {
     "name": "stdout",
     "output_type": "stream",
     "text": [
      "Training set size: (30469, 65)\n",
      "Test set size: (7618, 65)\n"
     ]
    }
   ],
   "execution_count": 23
  },
  {
   "metadata": {
    "ExecuteTime": {
     "end_time": "2025-01-03T22:47:18.158826Z",
     "start_time": "2025-01-03T22:47:17.075081Z"
    }
   },
   "cell_type": "code",
   "source": [
    "X_train = X_train.apply(pd.to_numeric, errors='coerce')\n",
    "X_test = X_test.apply(pd.to_numeric, errors='coerce')\n",
    "X = X.apply(pd.to_numeric, errors='coerce')"
   ],
   "id": "5f620ae83b2c7218",
   "outputs": [],
   "execution_count": 36
  },
  {
   "metadata": {
    "ExecuteTime": {
     "end_time": "2025-01-03T22:47:42.381639Z",
     "start_time": "2025-01-03T22:47:42.378200Z"
    }
   },
   "cell_type": "code",
   "source": [
    "def clean_feature_names(feature_names):\n",
    "    return [name.replace('[', '').replace(']', '').replace('<', '') for name in feature_names]\n",
    "\n",
    "X_train.columns = clean_feature_names(X_train.columns)\n",
    "X_test.columns = clean_feature_names(X_test.columns)\n",
    "X = clean_feature_names(X.columns)"
   ],
   "id": "8fecbcf428f962bd",
   "outputs": [],
   "execution_count": 37
  },
  {
   "metadata": {
    "ExecuteTime": {
     "end_time": "2025-01-03T22:46:30.391966Z",
     "start_time": "2025-01-03T22:46:24.980483Z"
    }
   },
   "cell_type": "code",
   "source": [
    "xgb_model = XGBClassifier(n_estimators=100, random_state=42, eval_metric=\"logloss\", verbosity=2,\n",
    "                          enable_categorical=True)\n",
    "\n",
    "calibrated_model = CalibratedClassifierCV(xgb_model, cv=3)\n",
    "calibrated_model.fit(X_train, y_train)\n",
    "\n",
    "y_pred_proba = calibrated_model.predict_proba(X_test)[:, 1]\n",
    "logloss = log_loss(y_test, y_pred_proba)\n",
    "print(f\"Log Loss on the test set: {logloss}\")\n"
   ],
   "id": "ac09e9181cb61127",
   "outputs": [
    {
     "name": "stdout",
     "output_type": "stream",
     "text": [
      "Log Loss on the test set: 0.6295072935256824\n"
     ]
    }
   ],
   "execution_count": 34
  }
 ],
 "metadata": {
  "kernelspec": {
   "display_name": "Python 3",
   "language": "python",
   "name": "python3"
  },
  "language_info": {
   "codemirror_mode": {
    "name": "ipython",
    "version": 2
   },
   "file_extension": ".py",
   "mimetype": "text/x-python",
   "name": "python",
   "nbconvert_exporter": "python",
   "pygments_lexer": "ipython2",
   "version": "2.7.6"
  }
 },
 "nbformat": 4,
 "nbformat_minor": 5
}
